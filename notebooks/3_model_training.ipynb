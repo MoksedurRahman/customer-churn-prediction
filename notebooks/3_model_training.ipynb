{
 "cells": [
  {
   "cell_type": "code",
   "execution_count": 3,
   "id": "0c7b374c",
   "metadata": {},
   "outputs": [
    {
     "name": "stderr",
     "output_type": "stream",
     "text": [
      "d:\\gitserver\\customer-churn-prediction\\utils\\data_preprocessing.py:17: FutureWarning: A value is trying to be set on a copy of a DataFrame or Series through chained assignment using an inplace method.\n",
      "The behavior will change in pandas 3.0. This inplace method will never work because the intermediate object on which we are setting values always behaves as a copy.\n",
      "\n",
      "For example, when doing 'df[col].method(value, inplace=True)', try using 'df.method({col: value}, inplace=True)' or df[col] = df[col].method(value) instead, to perform the operation inplace on the original object.\n",
      "\n",
      "\n",
      "  df['TotalCharges'].fillna(0, inplace=True)\n"
     ]
    },
    {
     "name": "stdout",
     "output_type": "stream",
     "text": [
      "Model successfully saved to ../models/random_forest.pkl\n",
      "Model verification: File exists\n",
      "Model test accuracy: 0.7920511000709723\n"
     ]
    }
   ],
   "source": [
    "# %% [markdown]\n",
    "# # Model Training for Customer Churn Prediction\n",
    "\n",
    "# %%\n",
    "import os\n",
    "import sys\n",
    "import pandas as pd\n",
    "import joblib\n",
    "from sklearn.ensemble import RandomForestClassifier\n",
    "from sklearn.model_selection import train_test_split\n",
    "\n",
    "# Add utils directory to path\n",
    "sys.path.append(os.path.abspath('../utils'))\n",
    "from data_preprocessing import preprocess_data\n",
    "\n",
    "# %%\n",
    "# 1. Load and preprocess data\n",
    "df = pd.read_csv('../data/raw/WA_Fn-UseC_-Telco-Customer-Churn.csv')\n",
    "X, y = preprocess_data(df)\n",
    "\n",
    "# %%\n",
    "# 2. Train-test split\n",
    "X_train, X_test, y_train, y_test = train_test_split(\n",
    "    X, y, test_size=0.2, random_state=42, stratify=y)\n",
    "\n",
    "# %%\n",
    "# 3. Train model\n",
    "model = RandomForestClassifier(\n",
    "    n_estimators=100,\n",
    "    random_state=42,\n",
    "    class_weight='balanced'  # Handles class imbalance\n",
    ")\n",
    "model.fit(X_train, y_train)\n",
    "\n",
    "# %%\n",
    "# 4. Save model - with directory creation\n",
    "os.makedirs('../models', exist_ok=True)  # Create directory if it doesn't exist\n",
    "model_path = '../models/random_forest.pkl'\n",
    "joblib.dump(model, model_path)\n",
    "print(f\"Model successfully saved to {model_path}\")\n",
    "\n",
    "# %%\n",
    "# 5. Verify the model was saved\n",
    "if os.path.exists(model_path):\n",
    "    print(\"Model verification: File exists\")\n",
    "    loaded_model = joblib.load(model_path)\n",
    "    print(\"Model test accuracy:\", loaded_model.score(X_test, y_test))\n",
    "else:\n",
    "    print(\"Error: Model file was not created\")"
   ]
  }
 ],
 "metadata": {
  "kernelspec": {
   "display_name": "Python 3",
   "language": "python",
   "name": "python3"
  },
  "language_info": {
   "codemirror_mode": {
    "name": "ipython",
    "version": 3
   },
   "file_extension": ".py",
   "mimetype": "text/x-python",
   "name": "python",
   "nbconvert_exporter": "python",
   "pygments_lexer": "ipython3",
   "version": "3.13.5"
  }
 },
 "nbformat": 4,
 "nbformat_minor": 5
}
