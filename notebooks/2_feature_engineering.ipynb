{
 "cells": [
  {
   "cell_type": "code",
   "execution_count": null,
   "id": "c3574839",
   "metadata": {},
   "outputs": [
    {
     "ename": "NameError",
     "evalue": "name 'X' is not defined",
     "output_type": "error",
     "traceback": [
      "\u001b[31m---------------------------------------------------------------------------\u001b[39m",
      "\u001b[31mNameError\u001b[39m                                 Traceback (most recent call last)",
      "\u001b[36mCell\u001b[39m\u001b[36m \u001b[39m\u001b[32mIn[1]\u001b[39m\u001b[32m, line 17\u001b[39m\n\u001b[32m     13\u001b[39m df = pd.read_csv(\u001b[33m'\u001b[39m\u001b[33m../data/raw/WA_Fn-UseC_-Telco-Customer-Churn.csv\u001b[39m\u001b[33m'\u001b[39m)\n\u001b[32m     15\u001b[39m \u001b[38;5;66;03m# %%\u001b[39;00m\n\u001b[32m     16\u001b[39m \u001b[38;5;66;03m# Preprocess data\u001b[39;00m\n\u001b[32m---> \u001b[39m\u001b[32m17\u001b[39m X, y = \u001b[43mpreprocess_data\u001b[49m\u001b[43m(\u001b[49m\u001b[43mdf\u001b[49m\u001b[43m)\u001b[49m\n\u001b[32m     19\u001b[39m \u001b[38;5;66;03m# %%\u001b[39;00m\n\u001b[32m     20\u001b[39m \u001b[38;5;66;03m# Split data\u001b[39;00m\n\u001b[32m     21\u001b[39m X_train, X_test, y_train, y_test = train_test_split(\n\u001b[32m     22\u001b[39m     X, y, test_size=\u001b[32m0.2\u001b[39m, random_state=\u001b[32m42\u001b[39m, stratify=y)\n",
      "\u001b[36mFile \u001b[39m\u001b[32mD:\\gitserver\\Customer-Churn-Prediction-for-Telecom-Company\\src\\data_preprocessing.py:8\u001b[39m, in \u001b[36mpreprocess_data\u001b[39m\u001b[34m(df)\u001b[39m\n\u001b[32m      6\u001b[39m \u001b[38;5;250m\u001b[39m\u001b[33;03m\"\"\"Preprocess the raw data for modeling\"\"\"\u001b[39;00m\n\u001b[32m      7\u001b[39m \u001b[38;5;66;03m# Your preprocessing code here\u001b[39;00m\n\u001b[32m----> \u001b[39m\u001b[32m8\u001b[39m \u001b[38;5;28;01mreturn\u001b[39;00m \u001b[43mX\u001b[49m, y\n",
      "\u001b[31mNameError\u001b[39m: name 'X' is not defined"
     ]
    }
   ],
   "source": []
  },
  {
   "cell_type": "code",
   "execution_count": 2,
   "id": "f90c1fc2",
   "metadata": {},
   "outputs": [
    {
     "name": "stderr",
     "output_type": "stream",
     "text": [
      "d:\\gitserver\\customer-churn-prediction\\utils\\data_preprocessing.py:17: FutureWarning: A value is trying to be set on a copy of a DataFrame or Series through chained assignment using an inplace method.\n",
      "The behavior will change in pandas 3.0. This inplace method will never work because the intermediate object on which we are setting values always behaves as a copy.\n",
      "\n",
      "For example, when doing 'df[col].method(value, inplace=True)', try using 'df.method({col: value}, inplace=True)' or df[col] = df[col].method(value) instead, to perform the operation inplace on the original object.\n",
      "\n",
      "\n",
      "  df['TotalCharges'].fillna(0, inplace=True)\n"
     ]
    },
    {
     "name": "stdout",
     "output_type": "stream",
     "text": [
      "Processed data shapes:\n",
      "X_train: (5634, 36)\n",
      "X_test: (1409, 36)\n",
      "y_train: (5634,)\n",
      "y_test: (1409,)\n"
     ]
    }
   ],
   "source": [
    "# %% [markdown]\n",
    "# # Feature Engineering for Customer Churn Prediction\n",
    "\n",
    "# %%\n",
    "import pandas as pd\n",
    "import numpy as np\n",
    "from sklearn.preprocessing import StandardScaler\n",
    "from sklearn.model_selection import train_test_split\n",
    "import os\n",
    "import sys\n",
    "\n",
    "# Add utils directory to path\n",
    "sys.path.append(os.path.abspath('../utils'))\n",
    "from data_preprocessing import preprocess_data\n",
    "\n",
    "# %%\n",
    "# Load raw data\n",
    "data_path = '../data/raw/WA_Fn-UseC_-Telco-Customer-Churn.csv'\n",
    "df = pd.read_csv(data_path)\n",
    "\n",
    "# %%\n",
    "# Preprocess data using our utility function\n",
    "X, y = preprocess_data(df)\n",
    "\n",
    "# %%\n",
    "# Feature Engineering - Create new features\n",
    "X['TotalSpend'] = X['MonthlyCharges'] * X['tenure']\n",
    "X['AvgMonthlySpend'] = X['TotalCharges'] / (X['tenure'] + 1)  # +1 to avoid division by zero\n",
    "\n",
    "# %%\n",
    "# Feature Engineering - Binning numerical features\n",
    "X['tenure_group'] = pd.cut(X['tenure'], bins=[0, 12, 24, 48, 72, np.inf], \n",
    "                          labels=['0-1yr', '1-2yr', '2-4yr', '4-6yr', '6+yr'])\n",
    "\n",
    "# %%\n",
    "# Convert bins to dummy variables\n",
    "tenure_dummies = pd.get_dummies(X['tenure_group'], prefix='tenure', drop_first=True)\n",
    "X = pd.concat([X, tenure_dummies], axis=1)\n",
    "X.drop('tenure_group', axis=1, inplace=True)\n",
    "\n",
    "# %%\n",
    "# Split data into train/test sets\n",
    "X_train, X_test, y_train, y_test = train_test_split(\n",
    "    X, y, test_size=0.2, random_state=42, stratify=y)\n",
    "\n",
    "# %%\n",
    "# Scale numerical features (excluding dummy variables)\n",
    "scaler = StandardScaler()\n",
    "num_cols = ['tenure', 'MonthlyCharges', 'TotalCharges', 'TotalSpend', 'AvgMonthlySpend']\n",
    "X_train[num_cols] = scaler.fit_transform(X_train[num_cols])\n",
    "X_test[num_cols] = scaler.transform(X_test[num_cols])\n",
    "\n",
    "# %%\n",
    "# Save processed data\n",
    "os.makedirs('../data/processed', exist_ok=True)\n",
    "X_train.to_csv('../data/processed/X_train.csv', index=False)\n",
    "X_test.to_csv('../data/processed/X_test.csv', index=False)\n",
    "y_train.to_csv('../data/processed/y_train.csv', index=False)\n",
    "y_test.to_csv('../data/processed/y_test.csv', index=False)\n",
    "\n",
    "# %%\n",
    "# Verify saved files\n",
    "print(\"Processed data shapes:\")\n",
    "print(f\"X_train: {X_train.shape}\")\n",
    "print(f\"X_test: {X_test.shape}\")\n",
    "print(f\"y_train: {y_train.shape}\")\n",
    "print(f\"y_test: {y_test.shape}\")"
   ]
  }
 ],
 "metadata": {
  "kernelspec": {
   "display_name": "Python 3",
   "language": "python",
   "name": "python3"
  },
  "language_info": {
   "codemirror_mode": {
    "name": "ipython",
    "version": 3
   },
   "file_extension": ".py",
   "mimetype": "text/x-python",
   "name": "python",
   "nbconvert_exporter": "python",
   "pygments_lexer": "ipython3",
   "version": "3.13.5"
  }
 },
 "nbformat": 4,
 "nbformat_minor": 5
}
