{
 "cells": [
  {
   "cell_type": "code",
   "execution_count": 4,
   "id": "47e764aa",
   "metadata": {},
   "outputs": [],
   "source": [
    "import os\n",
    "import sys\n",
    "import pandas as pd\n",
    "import numpy as np\n",
    "import matplotlib.pyplot as plt\n",
    "import seaborn as sns\n",
    "\n",
    "# Add project root to Python path\n",
    "sys.path.append(os.path.abspath('../utils'))\n",
    "\n",
    "# Import from utils instead of src\n",
    "from data_preprocessing import load_data\n",
    "\n",
    "# Load data\n",
    "df = load_data('../data/raw/WA_Fn-UseC_-Telco-Customer-Churn.csv')\n",
    "\n",
    "# Rest of your notebook code..."
   ]
  }
 ],
 "metadata": {
  "kernelspec": {
   "display_name": "Python 3",
   "language": "python",
   "name": "python3"
  },
  "language_info": {
   "codemirror_mode": {
    "name": "ipython",
    "version": 3
   },
   "file_extension": ".py",
   "mimetype": "text/x-python",
   "name": "python",
   "nbconvert_exporter": "python",
   "pygments_lexer": "ipython3",
   "version": "3.13.5"
  }
 },
 "nbformat": 4,
 "nbformat_minor": 5
}
